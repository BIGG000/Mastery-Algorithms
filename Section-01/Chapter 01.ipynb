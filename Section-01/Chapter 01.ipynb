{
 "cells": [
  {
   "cell_type": "markdown",
   "metadata": {},
   "source": [
    "## ALGORITHMS IN PYTHON\n"
   ]
  },
  {
   "cell_type": "markdown",
   "metadata": {},
   "source": [
    "## SECTION 01: FUNDAMENTALS AND CORE ALGORITHMS\n",
    "\n",
    "### Algorithms\n",
    "    An algorithm is a finite set of unambiguous instructions that, given some set of initialconditions, can be performed in a prescribed sequence to achieve a certain goal and that has a recognizable set of end conditions.\n",
    "    \n",
    "### The Phase of an Algorithm\n",
    "    \n",
    "   <img src=\"images/image1.png\">\n",
    "   \n",
    "  ### *The Design Phase*\n",
    "          The architecture logic and implementation details of the algortihms are envised and documented.\n",
    " ### *The Coding Phase*\n",
    "        The designed algorithm is converted into a computer program to implements all the logic and architecture of design.\n",
    "        \n"
   ]
  },
  {
   "cell_type": "markdown",
   "metadata": {},
   "source": [
    "### Specifiying the logic of an Algorithm\n",
    "### Understanding the Pseudocode\n",
    "\n",
    "   <img src=\"images/image2.png\">\n",
    "\n"
   ]
  },
  {
   "cell_type": "markdown",
   "metadata": {},
   "source": [
    "### Creating an Execution Plan\n",
    "\n",
    "   <img src=\"images/image3.png\">"
   ]
  },
  {
   "cell_type": "markdown",
   "metadata": {},
   "source": [
    "### Algorithm Design Techniques\n",
    "   An algorithm is a set of instruction which is design logically and documented in a manner way to develop any real-world problems with the help of mathematical solutions.There's a 3 ways to keep following concerns in mind to work on designing and fine-tuning the alogrithms.\n",
    "      \n",
    "#### Concern 01: Is this algorithm producing the results we expected?\n",
    "#### Concern 02: Is this most optimal way to get these results?\n",
    "#### Concern 03: How is the algorithm going to perform on larger datasets?\n",
    "\n",
    "**Data-Intensive Algorithms :**\n",
    "    Data-intensive algorithms are design to handle and manange a large/continous amount of datasets. They are expected to have relatively simplistic procesing requirements.\n",
    "    \n",
    "**Compute-Intensive Algorithms :**\n",
    "    Compute-intensive algorithms having a complex logic and design to compute a big scale processing and also parallelized the processing the performance of an algorithm.\n",
    "    \n",
    "**Data-Intensive and Compute-Intensive Algorithms :**\n",
    "    There are certain algorithms that deal with a large amount of data and also have considerable computing requirements."
   ]
  },
  {
   "cell_type": "markdown",
   "metadata": {},
   "source": [
    "### The Data Dimension\n",
    "   Data dimensions of the problems, are looked like ( 3Vs ) the **Volumne**, **Velocity** and **Variety**.\n",
    "  \n",
    "#### Volumne :    \n",
    "   The expected size of the data that the algorithms will process.\n",
    "#### Velocity :\n",
    "   The rate of the new data generation when the alogrithms is used, it can be zero.\n",
    "#### Variety :\n",
    "   The variety quantifies how many different types of data the designed algorithm is expected to deal with.\n",
    "     <img src=\"images/image4.png\">"
   ]
  },
  {
   "cell_type": "markdown",
   "metadata": {},
   "source": [
    "### Big O Notation\n",
    "\n",
    "Big O notation is used to quantify the performance of various algorithms as the input size\n",
    "grows. Big O notation is one of the most popular methodologies used to conduct worst-case\n",
    "analysis."
   ]
  },
  {
   "cell_type": "markdown",
   "metadata": {},
   "source": [
    "#### Constant time (O(1)) complexity\n",
    "If an algorithm takes the same amount of time to run, independent of the size of the input data, it is said to run in constant time. It is represented by O(1).\n",
    "\n",
    "#### Linear time (O(n)) complexity\n",
    "An algorithm is said to have a complexity of linear time, represented by O(n), if the execution time is directly proportional to the size of the input.\n",
    "\n",
    "#### Quadratic time (O(n 2 )) complexity\n",
    "An algorithm is said to run in quadratic time if the execution time of an algorithm is\n",
    "proportional to the square of the input size; for example, a simple function that sums up a\n",
    "two-dimensional array,"
   ]
  },
  {
   "cell_type": "markdown",
   "metadata": {},
   "source": []
  },
  {
   "cell_type": "code",
   "execution_count": null,
   "metadata": {},
   "outputs": [],
   "source": []
  }
 ],
 "metadata": {
  "kernelspec": {
   "display_name": "Python 3",
   "language": "python",
   "name": "python3"
  },
  "language_info": {
   "codemirror_mode": {
    "name": "ipython",
    "version": 3
   },
   "file_extension": ".py",
   "mimetype": "text/x-python",
   "name": "python",
   "nbconvert_exporter": "python",
   "pygments_lexer": "ipython3",
   "version": "3.7.6"
  }
 },
 "nbformat": 4,
 "nbformat_minor": 4
}
