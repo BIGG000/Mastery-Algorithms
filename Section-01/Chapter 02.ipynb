{
 "cells": [
  {
   "cell_type": "markdown",
   "metadata": {},
   "source": [
    "## DATA STRUCTURES "
   ]
  },
  {
   "cell_type": "markdown",
   "metadata": {},
   "source": [
    "Algorithms need necessary in-memory data structures that can hold temporary data while executing. Choosing the right data structures is essential for their efficient implementation.\n",
    "\n",
    "    *Exploring data structures in Python\n",
    "    *Exploring abstract data type\n",
    "    *Stacks and queues\n",
    "    *Trees\n",
    "    \n",
    "### Exploring Data Structures\n",
    "\n",
    "    *Lists: Ordered mutable sequences of elements.\n",
    "    *Tuples: Ordered immutable sequences of elements.\n",
    "    *Sets: Unordered bags of elements.\n",
    "    *Dictonary: Unordered bags of key-value pairs.\n",
    "    *Data Frames:Two-dimensional structure to store two-dimensional data."
   ]
  },
  {
   "cell_type": "code",
   "execution_count": 9,
   "metadata": {},
   "outputs": [
    {
     "name": "stdout",
     "output_type": "stream",
     "text": [
      "['Jhon', 'Toronto', 33, True]\n",
      "['Red', 'Green', 'Blue', 'Yellow']\n",
      "Indexing of the list : Green\n",
      "Slicing of the list : ['Red', 'Green']\n",
      "Slicing of the list : ['Red', 'Green']\n",
      "Slicing of the list : ['Blue', 'Yellow']\n",
      "Slicing of the list : ['Red', 'Green', 'Blue']\n",
      "Slicing of the list : ['Blue']\n"
     ]
    }
   ],
   "source": [
    "#List\n",
    "alist = [\"Jhon\",\"Toronto\",33,True]\n",
    "print(alist)\n",
    "#List indexing\n",
    "colors = ['Red','Green','Blue','Yellow']\n",
    "print(colors)\n",
    "print('Indexing of the list :',colors[1])\n",
    "#List Slicing\n",
    "print('Slicing of the list :',colors[0:2])\n",
    "print('Slicing of the list :',colors[:2])\n",
    "print('Slicing of the list :',colors[2:])\n",
    "#Negative Slicing\n",
    "print('Slicing of the list :',colors[:-1])\n",
    "print('Slicing of the list :',colors[-2:-1])\n"
   ]
  },
  {
   "cell_type": "code",
   "execution_count": null,
   "metadata": {},
   "outputs": [],
   "source": []
  }
 ],
 "metadata": {
  "kernelspec": {
   "display_name": "Python 3",
   "language": "python",
   "name": "python3"
  },
  "language_info": {
   "codemirror_mode": {
    "name": "ipython",
    "version": 3
   },
   "file_extension": ".py",
   "mimetype": "text/x-python",
   "name": "python",
   "nbconvert_exporter": "python",
   "pygments_lexer": "ipython3",
   "version": "3.7.6"
  }
 },
 "nbformat": 4,
 "nbformat_minor": 4
}
