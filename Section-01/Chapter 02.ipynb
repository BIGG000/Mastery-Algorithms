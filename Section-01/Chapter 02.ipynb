{
 "cells": [
  {
   "cell_type": "markdown",
   "metadata": {},
   "source": [
    "## DATA STRUCTURES "
   ]
  },
  {
   "cell_type": "markdown",
   "metadata": {},
   "source": [
    "Algorithms need necessary in-memory data structures that can hold temporary data while executing. Choosing the right data structures is essential for their efficient implementation.\n",
    "\n",
    "    *Exploring data structures in Python\n",
    "    *Exploring abstract data type\n",
    "    *Stacks and queues\n",
    "    *Trees\n",
    "    \n",
    "### Exploring Data Structures\n",
    "\n",
    "    *Lists: Ordered mutable sequences of elements.\n",
    "    *Tuples: Ordered immutable sequences of elements.\n",
    "    *Sets: Unordered bags of elements.\n",
    "    *Dictonary: Unordered bags of key-value pairs.\n",
    "    *Data Frames:Two-dimensional structure to store two-dimensional data."
   ]
  },
  {
   "cell_type": "markdown",
   "metadata": {},
   "source": [
    "## LIST"
   ]
  },
  {
   "cell_type": "code",
   "execution_count": 17,
   "metadata": {},
   "outputs": [
    {
     "name": "stdout",
     "output_type": "stream",
     "text": [
      "['Jhon', 'Toronto', 33, True]\n",
      "['Red', 'Green', 'Blue', 'Yellow']\n",
      "Indexing of the list : Green\n",
      "Slicing of the list : ['Red', 'Green']\n",
      "Slicing of the list : ['Red', 'Green']\n",
      "Slicing of the list : ['Blue', 'Yellow']\n",
      "Slicing of the list : ['Red', 'Green', 'Blue']\n",
      "Slicing of the list : ['Blue']\n",
      "300\n",
      "Red Square\n",
      "Green Square\n",
      "Blue Square\n",
      "Yellow Square\n"
     ]
    }
   ],
   "source": [
    "#List\n",
    "alist = [\"Jhon\",\"Toronto\",33,True]\n",
    "print(alist)\n",
    "#List indexing\n",
    "colors = ['Red','Green','Blue','Yellow']\n",
    "print(colors)\n",
    "print('Indexing of the list :',colors[1])\n",
    "#List Slicing\n",
    "print('Slicing of the list :',colors[0:2])\n",
    "print('Slicing of the list :',colors[:2])\n",
    "print('Slicing of the list :',colors[2:])\n",
    "#Negative Slicing\n",
    "print('Slicing of the list :',colors[:-1])\n",
    "print('Slicing of the list :',colors[-2:-1])\n",
    "#Nesting \n",
    "a = [1,2,[100,200,300],3]\n",
    "print(max(a[2]))\n",
    "#Iteration\n",
    "for acolors in colors:\n",
    "    print(acolors + \" Square\")"
   ]
  },
  {
   "cell_type": "markdown",
   "metadata": {},
   "source": [
    "## Lambda Fuction in list"
   ]
  },
  {
   "cell_type": "code",
   "execution_count": 29,
   "metadata": {},
   "outputs": [
    {
     "data": {
      "text/plain": [
       "[200, 300, 1000]"
      ]
     },
     "execution_count": 29,
     "metadata": {},
     "output_type": "execute_result"
    }
   ],
   "source": [
    "#Filtering Data\n",
    "list(filter (lambda x: x > 100, [-5,200,300,-10,10,1000]))"
   ]
  },
  {
   "cell_type": "code",
   "execution_count": 30,
   "metadata": {},
   "outputs": [
    {
     "data": {
      "text/plain": [
       "[121, 484, 1089, 1936, 3025]"
      ]
     },
     "execution_count": 30,
     "metadata": {},
     "output_type": "execute_result"
    }
   ],
   "source": [
    "#Data Transformation\n",
    "list(map(lambda x: x**2, [11,22,33,44,55]))"
   ]
  },
  {
   "cell_type": "code",
   "execution_count": 34,
   "metadata": {},
   "outputs": [
    {
     "data": {
      "text/plain": [
       "270"
      ]
     },
     "execution_count": 34,
     "metadata": {},
     "output_type": "execute_result"
    }
   ],
   "source": [
    "#Data Aggregation\n",
    "from functools import reduce\n",
    "def dosum(x1,x2):\n",
    "    return x1+x2\n",
    "x = reduce(dosum,[100,122,33,4,5,6])\n",
    "x"
   ]
  },
  {
   "cell_type": "markdown",
   "metadata": {},
   "source": [
    "## Range Function"
   ]
  },
  {
   "cell_type": "code",
   "execution_count": 45,
   "metadata": {},
   "outputs": [
    {
     "data": {
      "text/plain": [
       "range(0, 100)"
      ]
     },
     "execution_count": 45,
     "metadata": {},
     "output_type": "execute_result"
    }
   ],
   "source": [
    "#Range Fucntion\n",
    "x = range(100)\n",
    "x"
   ]
  },
  {
   "cell_type": "markdown",
   "metadata": {},
   "source": [
    "## Tuple"
   ]
  },
  {
   "cell_type": "code",
   "execution_count": 4,
   "metadata": {},
   "outputs": [
    {
     "data": {
      "text/plain": [
       "('Red', 'Green', 'Blue', 'Yellow')"
      ]
     },
     "execution_count": 4,
     "metadata": {},
     "output_type": "execute_result"
    }
   ],
   "source": [
    "bin_color = ('Red','Green','Blue','Yellow')\n",
    "bin_color"
   ]
  },
  {
   "cell_type": "code",
   "execution_count": 5,
   "metadata": {},
   "outputs": [
    {
     "data": {
      "text/plain": [
       "'Green'"
      ]
     },
     "execution_count": 5,
     "metadata": {},
     "output_type": "execute_result"
    }
   ],
   "source": [
    "bin_color[1]"
   ]
  },
  {
   "cell_type": "code",
   "execution_count": 6,
   "metadata": {},
   "outputs": [
    {
     "data": {
      "text/plain": [
       "('Blue', 'Yellow')"
      ]
     },
     "execution_count": 6,
     "metadata": {},
     "output_type": "execute_result"
    }
   ],
   "source": [
    "bin_color[2:]"
   ]
  },
  {
   "cell_type": "code",
   "execution_count": 14,
   "metadata": {},
   "outputs": [
    {
     "data": {
      "text/plain": [
       "(1, 2, 3, 4, 5, (100, 200, 300, 400, 500))"
      ]
     },
     "execution_count": 14,
     "metadata": {},
     "output_type": "execute_result"
    }
   ],
   "source": [
    "a = (1,2,3,4,5,(100,200,300,400,500))\n",
    "a"
   ]
  },
  {
   "cell_type": "markdown",
   "metadata": {},
   "source": [
    "## Dictionary"
   ]
  },
  {
   "cell_type": "code",
   "execution_count": 20,
   "metadata": {},
   "outputs": [
    {
     "data": {
      "text/plain": [
       "{'manaul_copy': 'Yellow', 'approved_copy': 'Green', 'refused_color': 'Red'}"
      ]
     },
     "execution_count": 20,
     "metadata": {},
     "output_type": "execute_result"
    }
   ],
   "source": [
    "bin_color = {\n",
    "    \"manaul_copy\" : \"Yellow\",\n",
    "    \"approved_copy\" : \"Green\",\n",
    "    \"refused_color\" : \"Red\"\n",
    "}\n",
    "bin_color"
   ]
  },
  {
   "cell_type": "code",
   "execution_count": 22,
   "metadata": {},
   "outputs": [
    {
     "data": {
      "text/plain": [
       "'Green'"
      ]
     },
     "execution_count": 22,
     "metadata": {},
     "output_type": "execute_result"
    }
   ],
   "source": [
    "bin_color.get('approved_copy')"
   ]
  },
  {
   "cell_type": "code",
   "execution_count": 24,
   "metadata": {},
   "outputs": [
    {
     "data": {
      "text/plain": [
       "'Green'"
      ]
     },
     "execution_count": 24,
     "metadata": {},
     "output_type": "execute_result"
    }
   ],
   "source": [
    "bin_color['approved_copy']"
   ]
  },
  {
   "cell_type": "code",
   "execution_count": null,
   "metadata": {},
   "outputs": [],
   "source": [
    "bin_color"
   ]
  }
 ],
 "metadata": {
  "kernelspec": {
   "display_name": "Python 3",
   "language": "python",
   "name": "python3"
  },
  "language_info": {
   "codemirror_mode": {
    "name": "ipython",
    "version": 3
   },
   "file_extension": ".py",
   "mimetype": "text/x-python",
   "name": "python",
   "nbconvert_exporter": "python",
   "pygments_lexer": "ipython3",
   "version": "3.7.6"
  }
 },
 "nbformat": 4,
 "nbformat_minor": 4
}
