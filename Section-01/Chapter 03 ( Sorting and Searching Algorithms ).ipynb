{
 "cells": [
  {
   "cell_type": "markdown",
   "metadata": {},
   "source": [
    "# Intro to Sorting Algorithms\n",
    " Following sorting algorithms,we will cover;\n",
    "   * Bubble Sort\n",
    "   * Merge Sort\n",
    "   * Insertion Sort\n",
    "   * Shell Sort\n",
    "   * Selection Sort"
   ]
  },
  {
   "cell_type": "markdown",
   "metadata": {},
   "source": [
    "### Swapping Variables in PYTHON"
   ]
  },
  {
   "cell_type": "code",
   "execution_count": 10,
   "metadata": {},
   "outputs": [
    {
     "name": "stdout",
     "output_type": "stream",
     "text": [
      "Double Swap Variables\n",
      "Var1 value : 2 , Var2 value : 1\n",
      "\n",
      "Triple Swap Variables\n",
      "Var1 value : 3 , Var2 value : 1, Var3 value : 2\n"
     ]
    }
   ],
   "source": [
    "var1 = 1\n",
    "var2 = 2\n",
    "var3 = 3\n",
    "\n",
    "var1,var2 = var2,var1\n",
    "print(\"Double Swap Variables\")\n",
    "print(f\"Var1 value : {var1} , Var2 value : {var2}\")\n",
    "var1,var2,var3 = var3,var2,var1\n",
    "print(\"\\nTriple Swap Variables\")\n",
    "print(f\"Var1 value : {var1} , Var2 value : {var2}, Var3 value : {var3}\")"
   ]
  },
  {
   "cell_type": "markdown",
   "metadata": {},
   "source": [
    "## Bubble Sort\n",
    "Bubble sort is the simplest and slowest algorithm used for sorting. It is designed in a way that the highest value in its list bubbles its way to the top as the algorithm loops through iterations."
   ]
  },
  {
   "cell_type": "code",
   "execution_count": 14,
   "metadata": {},
   "outputs": [
    {
     "name": "stdout",
     "output_type": "stream",
     "text": [
      "Sorted array is:\n",
      "11\n",
      "12\n",
      "22\n",
      "25\n",
      "34\n",
      "64\n",
      "90\n"
     ]
    }
   ],
   "source": [
    "def bubbleSort(arr): \n",
    "    n = len(arr) \n",
    "    # Traverse through all array elements \n",
    "    for i in range(n-1): \n",
    "    # range(n) also work but outer loop will repeat one time more than needed. \n",
    "    # Last i elements are already in place \n",
    "        for j in range(0, n-i-1): \n",
    "# traverse the array from 0 to n-i-1 \n",
    "# Swap if the element found is greater \n",
    "# than the next element \n",
    "            if arr[j] > arr[j+1] : \n",
    "                arr[j], arr[j+1] = arr[j+1], arr[j] \n",
    "arr = [64, 34, 25, 12, 22, 11, 90] \n",
    "\n",
    "bubbleSort(arr) \n",
    "\n",
    "print (\"Sorted array is:\") \n",
    "for i in range(len(arr)): \n",
    "    print (\"%d\" %arr[i]), \n"
   ]
  },
  {
   "cell_type": "markdown",
   "metadata": {},
   "source": [
    "## Insertion Sort\n",
    "The basic idea of insertion sort is that in each iteration, we remove a data point from the data structure we have and then insert it into its right position. That is why we call this the insertion sort algorithm"
   ]
  },
  {
   "cell_type": "code",
   "execution_count": 15,
   "metadata": {},
   "outputs": [
    {
     "name": "stdout",
     "output_type": "stream",
     "text": [
      "Sorted array is:\n",
      "5\n",
      "6\n",
      "11\n",
      "12\n",
      "13\n"
     ]
    }
   ],
   "source": [
    "def insertionSort(arr): \n",
    "  \n",
    "    # Traverse through 1 to len(arr) \n",
    "    for i in range(1, len(arr)): \n",
    "  \n",
    "        key = arr[i] \n",
    "  \n",
    "        # Move elements of arr[0..i-1], that are \n",
    "        # greater than key, to one position ahead \n",
    "        # of their current position \n",
    "        j = i-1\n",
    "        while j >=0 and key < arr[j] : \n",
    "                arr[j+1] = arr[j] \n",
    "                j -= 1\n",
    "        arr[j+1] = key \n",
    "  \n",
    "  \n",
    "# Driver code to test above \n",
    "arr = [12, 11, 13, 5, 6] \n",
    "insertionSort(arr) \n",
    "print (\"Sorted array is:\") \n",
    "for i in range(len(arr)): \n",
    "    print (\"%d\" %arr[i]) "
   ]
  },
  {
   "cell_type": "markdown",
   "metadata": {},
   "source": [
    "## Merge Sort\n",
    "We have presented, so far, two sorting algorithms: bubble sort and insertion sort. The performance of both of them will be better if the data is partially sorted. The third algorithm presented in this chapter is the merge sort algorithm."
   ]
  },
  {
   "cell_type": "code",
   "execution_count": 19,
   "metadata": {},
   "outputs": [
    {
     "name": "stdout",
     "output_type": "stream",
     "text": [
      "MergeSort \n",
      "0\n",
      "1\n",
      "3\n",
      "5\n",
      "11\n",
      "12\n",
      "12\n",
      "31\n",
      "32\n",
      "44\n",
      "51\n",
      "51\n",
      "61\n",
      "71\n",
      "73\n",
      "85\n"
     ]
    }
   ],
   "source": [
    "def MergeSort(list):\n",
    "    if len(list)>1:\n",
    "        mid = len(list)//2\n",
    "        left = list[:mid]\n",
    "        right = list[mid:]\n",
    "        \n",
    "        MergeSort(left)\n",
    "        MergeSort(right)\n",
    "        \n",
    "        a = 0\n",
    "        b = 0\n",
    "        c = 0\n",
    "        while a < len(left) and b < len(right):\n",
    "            if left[a] < right[b]:\n",
    "                list[c] = left[a]\n",
    "                a = a + 1\n",
    "            else:\n",
    "                list[c] = right[b]\n",
    "                b = b + 1\n",
    "            c = c + 1\n",
    "        while a < len(left):\n",
    "            list[c] = left[a]\n",
    "            a = a + 1\n",
    "            c = c + 1\n",
    "        while b < len(right):\n",
    "            list[c] = right[b]\n",
    "            b = b + 1\n",
    "            c = c + 1      \n",
    "    return list\n",
    "\n",
    "list = [44,12,51,61,51,71,85,32,73,31,12,11,5,3,1,0]\n",
    "print(\"MergeSort \")\n",
    "MergeSort(list)\n",
    "for i in range(len(list)):\n",
    "    print(\"%d\" %list[i]) \n",
    "    "
   ]
  },
  {
   "cell_type": "markdown",
   "metadata": {},
   "source": [
    "## Shell Sort\n",
    "The bubble sort algorithm compares immediate neighbors and exchanges them if they are out of order. If we have a partially sorted list, bubble sort should give reasonable performance as it will exit as soon as no more swapping of elements occurs in a loop.But for a totally unsorted list, sized N, you can argue that bubble sort will have to fully iterate through N-1 passes in order to get it fully sorted.\n",
    "Donald Shell proposed Shell sort (named after him), which questions the importance of selecting immediate neighbors for comparison and swapping."
   ]
  },
  {
   "cell_type": "code",
   "execution_count": 21,
   "metadata": {},
   "outputs": [
    {
     "name": "stdout",
     "output_type": "stream",
     "text": [
      "ShellSort \n",
      "0\n",
      "1\n",
      "3\n",
      "5\n",
      "11\n",
      "12\n",
      "12\n",
      "31\n",
      "32\n",
      "44\n",
      "51\n",
      "51\n",
      "61\n",
      "71\n",
      "73\n",
      "85\n"
     ]
    }
   ],
   "source": [
    "def ShellSort(list):\n",
    "    distance = len(list) // 2\n",
    "    while distance > 0:\n",
    "        for i in range(distance, len(list)):\n",
    "            temp = list[i]\n",
    "            j = i\n",
    "# Sort the sub list for this distance\n",
    "            while j >= distance and list[j - distance] > temp:\n",
    "                list[j] = list[j - distance]\n",
    "                j = j-distance\n",
    "            list[j] = temp\n",
    "# Reduce the distance for the next element\n",
    "        distance = distance//2\n",
    "    return list\n",
    "\n",
    "list = [44,12,51,61,51,71,85,32,73,31,12,11,5,3,1,0]\n",
    "print(\"ShellSort \")\n",
    "ShellSort(list)\n",
    "for i in range(len(list)):\n",
    "    print(\"%d\" %list[i]) "
   ]
  },
  {
   "cell_type": "markdown",
   "metadata": {},
   "source": [
    "## Selection Sort\n",
    "Selection sort is an improvement on bubble sort, where we try to minimize the total number of swaps required with the algorithm. It is designed to make one swap for each pass."
   ]
  },
  {
   "cell_type": "code",
   "execution_count": 22,
   "metadata": {},
   "outputs": [
    {
     "name": "stdout",
     "output_type": "stream",
     "text": [
      "Selection Sort\n",
      "0\n",
      "1\n",
      "3\n",
      "5\n",
      "11\n",
      "12\n",
      "12\n",
      "31\n",
      "32\n",
      "44\n",
      "51\n",
      "51\n",
      "61\n",
      "71\n",
      "73\n",
      "85\n"
     ]
    }
   ],
   "source": [
    "def SelectionSort(list):\n",
    "    for fill_slot in range(len(list) - 1, 0, -1):\n",
    "        max_index = 0\n",
    "        for location in range(1, fill_slot + 1):\n",
    "            if list[location] > list[max_index]:\n",
    "                max_index = location\n",
    "        list[fill_slot],list[max_index] = list[max_index],list[fill_slot]\n",
    "        \n",
    "list = [44,12,51,61,51,71,85,32,73,31,12,11,5,3,1,0]\n",
    "print(\"Selection Sort\")\n",
    "SelectionSort(list)\n",
    "for i in range(len(list)):\n",
    "    print(\"%d\" %list[i]) "
   ]
  },
  {
   "cell_type": "markdown",
   "metadata": {},
   "source": [
    "# Intro to Searching Algorithm\n",
    "Efficiently searching data in complex data structures is one of the most important functionalities. The simplest approach, which will not be that efficient, is to search for the\n",
    "required data in each data point. But, as the data becomes bigger in size, we need more sophisticated algorithms designed for searching data.\n",
    "\n",
    "The following searching algorithms are presented in this section:\n",
    "   * Linear search\n",
    "   * Binary search\n",
    "   * Interpolation search"
   ]
  },
  {
   "cell_type": "code",
   "execution_count": null,
   "metadata": {},
   "outputs": [],
   "source": []
  }
 ],
 "metadata": {
  "kernelspec": {
   "display_name": "Python 3",
   "language": "python",
   "name": "python3"
  },
  "language_info": {
   "codemirror_mode": {
    "name": "ipython",
    "version": 3
   },
   "file_extension": ".py",
   "mimetype": "text/x-python",
   "name": "python",
   "nbconvert_exporter": "python",
   "pygments_lexer": "ipython3",
   "version": "3.7.6"
  }
 },
 "nbformat": 4,
 "nbformat_minor": 4
}
