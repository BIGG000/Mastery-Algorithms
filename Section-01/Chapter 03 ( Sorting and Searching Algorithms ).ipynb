{
 "cells": [
  {
   "cell_type": "markdown",
   "metadata": {},
   "source": [
    "# Intro to Sorting Algorithms\n",
    " Following sorting algorithms,we will cover;\n",
    "   * Bubble Sort\n",
    "   * Merge Sort\n",
    "   * Insertion Sort\n",
    "   * Shell Sort\n",
    "   * Selection Sort"
   ]
  },
  {
   "cell_type": "markdown",
   "metadata": {},
   "source": [
    "### Swapping Variables in PYTHON"
   ]
  },
  {
   "cell_type": "code",
   "execution_count": 10,
   "metadata": {},
   "outputs": [
    {
     "name": "stdout",
     "output_type": "stream",
     "text": [
      "Double Swap Variables\n",
      "Var1 value : 2 , Var2 value : 1\n",
      "\n",
      "Triple Swap Variables\n",
      "Var1 value : 3 , Var2 value : 1, Var3 value : 2\n"
     ]
    }
   ],
   "source": [
    "var1 = 1\n",
    "var2 = 2\n",
    "var3 = 3\n",
    "\n",
    "var1,var2 = var2,var1\n",
    "print(\"Double Swap Variables\")\n",
    "print(f\"Var1 value : {var1} , Var2 value : {var2}\")\n",
    "var1,var2,var3 = var3,var2,var1\n",
    "print(\"\\nTriple Swap Variables\")\n",
    "print(f\"Var1 value : {var1} , Var2 value : {var2}, Var3 value : {var3}\")"
   ]
  },
  {
   "cell_type": "markdown",
   "metadata": {},
   "source": [
    "## Bubble Sort\n",
    "Bubble sort is the simplest and slowest algorithm used for sorting. It is designed in a way that the highest value in its list bubbles its way to the top as the algorithm loops through iterations."
   ]
  },
  {
   "cell_type": "code",
   "execution_count": 14,
   "metadata": {},
   "outputs": [
    {
     "name": "stdout",
     "output_type": "stream",
     "text": [
      "Sorted array is:\n",
      "11\n",
      "12\n",
      "22\n",
      "25\n",
      "34\n",
      "64\n",
      "90\n"
     ]
    }
   ],
   "source": [
    "# Python program for implementation of Bubble Sort \n",
    "\n",
    "def bubbleSort(arr): \n",
    "    n = len(arr) \n",
    "    # Traverse through all array elements \n",
    "    for i in range(n-1): \n",
    "    # range(n) also work but outer loop will repeat one time more than needed. \n",
    "    # Last i elements are already in place \n",
    "        for j in range(0, n-i-1): \n",
    "# traverse the array from 0 to n-i-1 \n",
    "# Swap if the element found is greater \n",
    "# than the next element \n",
    "            if arr[j] > arr[j+1] : \n",
    "                arr[j], arr[j+1] = arr[j+1], arr[j] \n",
    "arr = [64, 34, 25, 12, 22, 11, 90] \n",
    "\n",
    "bubbleSort(arr) \n",
    "\n",
    "print (\"Sorted array is:\") \n",
    "for i in range(len(arr)): \n",
    "\tprint (\"%d\" %arr[i]), \n"
   ]
  },
  {
   "cell_type": "markdown",
   "metadata": {},
   "source": [
    "## Insertion Sort\n",
    "The basic idea of insertion sort is that in each iteration, we remove a data point from the\n",
    "data structure we have and then insert it into its right position. That is why we call this the\n",
    "insertion sort algorithm"
   ]
  }
 ],
 "metadata": {
  "kernelspec": {
   "display_name": "Python 3",
   "language": "python",
   "name": "python3"
  },
  "language_info": {
   "codemirror_mode": {
    "name": "ipython",
    "version": 3
   },
   "file_extension": ".py",
   "mimetype": "text/x-python",
   "name": "python",
   "nbconvert_exporter": "python",
   "pygments_lexer": "ipython3",
   "version": "3.7.6"
  }
 },
 "nbformat": 4,
 "nbformat_minor": 4
}
