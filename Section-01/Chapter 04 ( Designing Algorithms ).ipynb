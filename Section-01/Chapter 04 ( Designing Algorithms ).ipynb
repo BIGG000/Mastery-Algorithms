{
 "cells": [
  {
   "cell_type": "markdown",
   "metadata": {},
   "source": [
    "# DESIGNIING ALGORITHMS\n",
    "\n",
    "In this section we discussing the different choices available to you when designing algorithms. Then, it discusses the importance of characterizing the particular problem that we are trying to solve. Next, it uses the famous Traveling Salesman Problem (TSP) as a use case and applies the different design techniques that we will be resenting. Then, it introduces linear programming and discusses its applications. Finally, it presents how linear programming can be used to solve a real-world problem.\n",
    "\n",
    "The following concepts are discussed in this section:\n",
    "* The various approaches to designing an algorithm\n",
    "* Understanding the trade-offs involved in choosing the correct design for an algorithm\n",
    "* Best practices of formulating a real-world problem\n",
    "* Solving a real-world optimization problem"
   ]
  },
  {
   "cell_type": "markdown",
   "metadata": {},
   "source": [
    "### Basic Concept Of Designing An Algorithms\n",
    " \n",
    " An algorithm, according to the American Heritage Dictionary, is defined as;\n",
    "     \n",
    "  \" *A finite set of unambiguous instruction that given some set of initial conditions can be performed in a prescribed sequence to achieve a certain goal and that has a recognizable set of end conditions.*  \""
   ]
  },
  {
   "cell_type": "code",
   "execution_count": null,
   "metadata": {},
   "outputs": [],
   "source": [
    " "
   ]
  }
 ],
 "metadata": {
  "kernelspec": {
   "display_name": "Python 3",
   "language": "python",
   "name": "python3"
  },
  "language_info": {
   "codemirror_mode": {
    "name": "ipython",
    "version": 3
   },
   "file_extension": ".py",
   "mimetype": "text/x-python",
   "name": "python",
   "nbconvert_exporter": "python",
   "pygments_lexer": "ipython3",
   "version": "3.7.6"
  }
 },
 "nbformat": 4,
 "nbformat_minor": 4
}
