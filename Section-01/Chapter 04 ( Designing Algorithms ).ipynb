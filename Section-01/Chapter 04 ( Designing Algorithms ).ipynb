{
 "cells": [
  {
   "cell_type": "markdown",
   "metadata": {},
   "source": [
    "# DESIGNIING ALGORITHMS\n",
    "\n",
    "In this section we discussing the different choices available to you when designing algorithms. Then, it discusses the importance of characterizing the particular problem that we are trying to solve. Next, it uses the famous Traveling Salesman Problem (TSP) as a use case and applies the different design techniques that we will be resenting. Then, it introduces linear programming and discusses its applications. Finally, it presents how linear programming can be used to solve a real-world problem.\n",
    "\n",
    "The following concepts are discussed in this section:\n",
    "* The various approaches to designing an algorithm\n",
    "* Understanding the trade-offs involved in choosing the correct design for an algorithm\n",
    "* Best practices of formulating a real-world problem\n",
    "* Solving a real-world optimization problem"
   ]
  },
  {
   "cell_type": "markdown",
   "metadata": {},
   "source": [
    "### Basic Concept Of Designing An Algorithms\n",
    " \n",
    " An algorithm, according to the American Heritage Dictionary, is defined as;\n",
    "     \n",
    "  \" *A finite set of unambiguous instruction that given some set of initial conditions can be performed in a prescribed sequence to achieve a certain goal and that has a recognizable set of end conditions.*  \""
   ]
  },
  {
   "cell_type": "markdown",
   "metadata": {},
   "source": [
    "#### Concern 1 – Will the designed algorithm produce the result we expect?\n",
    "An algorithm is a mathematical solution to a real-world problem. To be useful, it should produce accurate results. How to verify the correctness of an algorithm should not be an afterthought; instead, it should be baked into the design of the algorithm. Before strategizing how to verify an algorithm, we need to think about the following two aspects:\n",
    "\n",
    "**Defining the truth:** To verify the algorithm, we need some known correct results for a given set of inputs. These known correct results are called the truths, in the context of the problem we are trying to solve. The truth is important as it is used as a reference when we iteratively work on evolving our algorithm toward a better solution.\n",
    "\n",
    "**Choosing metrics:** We also need to think about how are we going to quantify the deviation from the defined truth. Choosing the correct metrics will help us to accurately quantify the quality of our algorithm."
   ]
  },
  {
   "cell_type": "markdown",
   "metadata": {},
   "source": [
    "#### Concern 2 – Is this the optimal way to get these results?\n",
    "\n",
    "**Polynomial algorithm:** If an algorithm has a time complexity of O(n k ), we call it a polynomial algorithm, where k is a constant.\n",
    "\n",
    "**Certificate:** A proposed candidate solution produced at the end of an iteration is called a certificate. As we progress iteratively in solving a particular problem, we typically generate a series of certificates. If the solution is moving toward convergence, each generated certificate will be better than the previous one. At some point, when our certificate meets the requirements, we will choose that certificate as the final solution."
   ]
  },
  {
   "cell_type": "markdown",
   "metadata": {},
   "source": [
    "### Characterizing the complexity of the Problem\n",
    "\n",
    "* **Type 1:** Probelms for which we can gurantee that a polynomial algorithm exists that can be used to solve them.\n",
    "* **Type 2:** Problems for which we can prove that they cannot be solved by a polynomial alogrithms\n",
    "* **Type 3:** Problems for which we are unable to fing a polynomial algorithm to solve them, but we are also unable to prove that a polynomial solution for those problems impoossible to find.\n"
   ]
  },
  {
   "cell_type": "markdown",
   "metadata": {},
   "source": [
    "Various Classes of the Problems:\n",
    "   * **Non-Deterministic Polynomial(NP):**\n",
    "       For a problem to be an NP Problem,it has to meet the following conditions;\n",
    "       * It is guranteed that there is a polynomial algorithm that can be used to verfiy that the candidtate solution (certificate) is optimal.\n",
    "   * **Polynomial (P):** \n",
    "       These are types of problems that can be thought of as a subsetof NP. In addition to meeting the condition of an NP problem, P problems need to meet another condition:\n",
    "       * It is guaranteed that there is at least one polynomial algorithm that can be used to solve them."
   ]
  },
  {
   "cell_type": "code",
   "execution_count": null,
   "metadata": {},
   "outputs": [],
   "source": []
  }
 ],
 "metadata": {
  "kernelspec": {
   "display_name": "Python 3",
   "language": "python",
   "name": "python3"
  },
  "language_info": {
   "codemirror_mode": {
    "name": "ipython",
    "version": 3
   },
   "file_extension": ".py",
   "mimetype": "text/x-python",
   "name": "python",
   "nbconvert_exporter": "python",
   "pygments_lexer": "ipython3",
   "version": "3.7.6"
  }
 },
 "nbformat": 4,
 "nbformat_minor": 4
}
