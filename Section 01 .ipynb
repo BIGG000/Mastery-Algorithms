{
 "cells": [
  {
   "cell_type": "markdown",
   "metadata": {},
   "source": [
    "## ALGORITHMS IN PYTHON\n"
   ]
  },
  {
   "attachments": {},
   "cell_type": "markdown",
   "metadata": {},
   "source": [
    "## SECTION 01: FUNDAMENTALS AND CORE ALGORITHMS\n",
    "\n",
    "### Algorithms\n",
    "    An algorithm is a finite set of unambiguous instructions that, given some set of initialconditions, can be performed in a prescribed sequence to achieve a certain goal and that has a recognizable set of end conditions.\n",
    "    \n",
    "### The Phase of an Algorithm\n",
    "    \n",
    "   <img src=\"images/image1.png\">\n",
    "   \n",
    "  ### *The Design Phase*\n",
    "          The architecture logic and implementation details of the algortihms are envised and documented.\n",
    " ### *The Coding Phase*\n",
    "        The designed algorithm is converted into a computer program to implements all the logic and architecture of design.\n",
    "        \n",
    "\n",
    "### Specifiying the logic of an Algorithm\n",
    "### Understanding the Pseudocode\n",
    "\n",
    "   <img src=\"images/image2.png\">\n"
   ]
  },
  {
   "cell_type": "code",
   "execution_count": null,
   "metadata": {},
   "outputs": [],
   "source": []
  }
 ],
 "metadata": {
  "kernelspec": {
   "display_name": "Python 3",
   "language": "python",
   "name": "python3"
  },
  "language_info": {
   "codemirror_mode": {
    "name": "ipython",
    "version": 3
   },
   "file_extension": ".py",
   "mimetype": "text/x-python",
   "name": "python",
   "nbconvert_exporter": "python",
   "pygments_lexer": "ipython3",
   "version": "3.7.6"
  }
 },
 "nbformat": 4,
 "nbformat_minor": 4
}
